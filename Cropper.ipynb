{
  "nbformat": 4,
  "nbformat_minor": 0,
  "metadata": {
    "colab": {
      "provenance": [],
      "authorship_tag": "ABX9TyOQ1kBkQ0KqOlzGNKA9h9Ix",
      "include_colab_link": true
    },
    "kernelspec": {
      "name": "python3",
      "display_name": "Python 3"
    },
    "language_info": {
      "name": "python"
    },
    "gpuClass": "standard"
  },
  "cells": [
    {
      "cell_type": "markdown",
      "metadata": {
        "id": "view-in-github",
        "colab_type": "text"
      },
      "source": [
        "<a href=\"https://colab.research.google.com/github/Wittedewit/ThesisProject/blob/main/Cropper.ipynb\" target=\"_parent\"><img src=\"https://colab.research.google.com/assets/colab-badge.svg\" alt=\"Open In Colab\"/></a>"
      ]
    },
    {
      "cell_type": "code",
      "source": [
        "x = 14595\n",
        "n = 256\n",
        "(x // n) * n"
      ],
      "metadata": {
        "colab": {
          "base_uri": "https://localhost:8080/"
        },
        "id": "yG_5nDqQPIyL",
        "outputId": "8436f322-2936-4f21-fedb-c42942a61f04"
      },
      "execution_count": null,
      "outputs": [
        {
          "output_type": "execute_result",
          "data": {
            "text/plain": [
              "14592"
            ]
          },
          "metadata": {},
          "execution_count": 12
        }
      ]
    },
    {
      "cell_type": "code",
      "source": [
        "y = [1,2,3,4]"
      ],
      "metadata": {
        "id": "kRkO4yC4Spgw"
      },
      "execution_count": null,
      "outputs": []
    },
    {
      "cell_type": "code",
      "source": [
        "for i, j in enumerate(y):\n",
        "  print(i)\n",
        "  print(j)"
      ],
      "metadata": {
        "colab": {
          "base_uri": "https://localhost:8080/"
        },
        "id": "wMVaHp7cSrrn",
        "outputId": "d9a144d5-85da-4189-bf8a-4254f1984301"
      },
      "execution_count": null,
      "outputs": [
        {
          "output_type": "stream",
          "name": "stdout",
          "text": [
            "0\n",
            "1\n",
            "1\n",
            "2\n",
            "2\n",
            "3\n",
            "3\n",
            "4\n"
          ]
        }
      ]
    },
    {
      "cell_type": "code",
      "source": [
        "from google.colab import drive\n",
        "drive.mount('/content/drive')\n",
        "!ls \"/content/drive/MyDrive/Master_Thesis/\"\n",
        "\n",
        "base_folder = \"/content/drive/MyDrive/Master_Thesis/tiff_to_split/\"\n",
        "img_folder = \"PNG_files/\"\n",
        "gt_start_folder = \"Masks\"\n",
        "#write_to_folder = \"cropped_png\""
      ],
      "metadata": {
        "colab": {
          "base_uri": "https://localhost:8080/"
        },
        "id": "KcJN7sFMFh-3",
        "outputId": "4d9d0238-587a-42d9-d817-6344a66f6929"
      },
      "execution_count": 23,
      "outputs": [
        {
          "output_type": "stream",
          "name": "stdout",
          "text": [
            "Drive already mounted at /content/drive; to attempt to forcibly remount, call drive.mount(\"/content/drive\", force_remount=True).\n",
            "cropped_png  GT_test  Modelmap\ttest_map2  tiff_to_split\n"
          ]
        }
      ]
    },
    {
      "cell_type": "code",
      "source": [
        "#! pip install imagecodecs"
      ],
      "metadata": {
        "id": "qYPMxvlGHWPE"
      },
      "execution_count": null,
      "outputs": []
    },
    {
      "cell_type": "code",
      "source": [
        "import tqdm\n",
        "import os\n",
        "from zipfile import ZipFile\n",
        "#import imagecodecs\n",
        "from skimage import io\n",
        "from PIL import Image\n",
        "Image.MAX_IMAGE_PIXELS = 1000000000\n",
        "import tqdm"
      ],
      "metadata": {
        "id": "fz39GoIRHDts"
      },
      "execution_count": 24,
      "outputs": []
    },
    {
      "cell_type": "code",
      "source": [
        "for i in os.listdir(img_folder):\n",
        "  print(i)"
      ],
      "metadata": {
        "colab": {
          "base_uri": "https://localhost:8080/",
          "height": 188
        },
        "id": "kbv13tE9LQwq",
        "outputId": "7b9055c7-fd33-4ba1-ec54-780af922d68d"
      },
      "execution_count": 25,
      "outputs": [
        {
          "output_type": "error",
          "ename": "FileNotFoundError",
          "evalue": "ignored",
          "traceback": [
            "\u001b[0;31m---------------------------------------------------------------------------\u001b[0m",
            "\u001b[0;31mFileNotFoundError\u001b[0m                         Traceback (most recent call last)",
            "\u001b[0;32m<ipython-input-25-06c53a20d30f>\u001b[0m in \u001b[0;36m<module>\u001b[0;34m\u001b[0m\n\u001b[0;32m----> 1\u001b[0;31m \u001b[0;32mfor\u001b[0m \u001b[0mi\u001b[0m \u001b[0;32min\u001b[0m \u001b[0mos\u001b[0m\u001b[0;34m.\u001b[0m\u001b[0mlistdir\u001b[0m\u001b[0;34m(\u001b[0m\u001b[0mimg_folder\u001b[0m\u001b[0;34m)\u001b[0m\u001b[0;34m:\u001b[0m\u001b[0;34m\u001b[0m\u001b[0;34m\u001b[0m\u001b[0m\n\u001b[0m\u001b[1;32m      2\u001b[0m   \u001b[0mprint\u001b[0m\u001b[0;34m(\u001b[0m\u001b[0mi\u001b[0m\u001b[0;34m)\u001b[0m\u001b[0;34m\u001b[0m\u001b[0;34m\u001b[0m\u001b[0m\n",
            "\u001b[0;31mFileNotFoundError\u001b[0m: [Errno 2] No such file or directory: 'PNG_files/'"
          ]
        }
      ]
    },
    {
      "cell_type": "code",
      "source": [
        "img_folder = os.path.join(base_folder, img_folder)\n",
        "print(img_folder)\n",
        "# loading the temp.zip and creating a zip object\n",
        "for img_index in os.listdir(img_folder):\n",
        "\tprint(img_index)\n",
        "\tif not img_index.endswith('rar'):\n",
        "\t\t\tprint('no rar files here')\n",
        "\telse:\n",
        "\t\twith ZipFile(os.listdir(img_index), 'r') as tiff_files:\n",
        "\t\t\tprint(\"Extraxting all files in \", i)\n",
        "\t\t\t# Extracting all the members of the zip\n",
        "\t\t\t# into a specific location.\n",
        "\t\t\ttiff_files.extractall(path=img_folder)\n"
      ],
      "metadata": {
        "colab": {
          "base_uri": "https://localhost:8080/",
          "height": 314
        },
        "id": "sn9e_I2LFtcs",
        "outputId": "2c98e134-4878-4178-c1e9-12c4a74b4d7e"
      },
      "execution_count": 26,
      "outputs": [
        {
          "output_type": "stream",
          "name": "stdout",
          "text": [
            "/content/drive/MyDrive/Master_Thesis/tiff_to_split/PNG_files/\n",
            "01_02_2022_F12.png\n",
            "no rar files here\n",
            "PNG_files.rar\n"
          ]
        },
        {
          "output_type": "error",
          "ename": "FileNotFoundError",
          "evalue": "ignored",
          "traceback": [
            "\u001b[0;31m---------------------------------------------------------------------------\u001b[0m",
            "\u001b[0;31mFileNotFoundError\u001b[0m                         Traceback (most recent call last)",
            "\u001b[0;32m<ipython-input-26-9b47047e3324>\u001b[0m in \u001b[0;36m<module>\u001b[0;34m\u001b[0m\n\u001b[1;32m      7\u001b[0m                         \u001b[0mprint\u001b[0m\u001b[0;34m(\u001b[0m\u001b[0;34m'no rar files here'\u001b[0m\u001b[0;34m)\u001b[0m\u001b[0;34m\u001b[0m\u001b[0;34m\u001b[0m\u001b[0m\n\u001b[1;32m      8\u001b[0m         \u001b[0;32melse\u001b[0m\u001b[0;34m:\u001b[0m\u001b[0;34m\u001b[0m\u001b[0;34m\u001b[0m\u001b[0m\n\u001b[0;32m----> 9\u001b[0;31m                 \u001b[0;32mwith\u001b[0m \u001b[0mZipFile\u001b[0m\u001b[0;34m(\u001b[0m\u001b[0mos\u001b[0m\u001b[0;34m.\u001b[0m\u001b[0mlistdir\u001b[0m\u001b[0;34m(\u001b[0m\u001b[0mimg_index\u001b[0m\u001b[0;34m)\u001b[0m\u001b[0;34m,\u001b[0m \u001b[0;34m'r'\u001b[0m\u001b[0;34m)\u001b[0m \u001b[0;32mas\u001b[0m \u001b[0mtiff_files\u001b[0m\u001b[0;34m:\u001b[0m\u001b[0;34m\u001b[0m\u001b[0;34m\u001b[0m\u001b[0m\n\u001b[0m\u001b[1;32m     10\u001b[0m                         \u001b[0mprint\u001b[0m\u001b[0;34m(\u001b[0m\u001b[0;34m\"Extraxting all files in \"\u001b[0m\u001b[0;34m,\u001b[0m \u001b[0mi\u001b[0m\u001b[0;34m)\u001b[0m\u001b[0;34m\u001b[0m\u001b[0;34m\u001b[0m\u001b[0m\n\u001b[1;32m     11\u001b[0m                         \u001b[0;31m# Extracting all the members of the zip\u001b[0m\u001b[0;34m\u001b[0m\u001b[0;34m\u001b[0m\u001b[0;34m\u001b[0m\u001b[0m\n",
            "\u001b[0;31mFileNotFoundError\u001b[0m: [Errno 2] No such file or directory: 'PNG_files.rar'"
          ]
        }
      ]
    },
    {
      "cell_type": "code",
      "source": [
        "x = os.walk(img_folder)\n",
        "print(list(x))"
      ],
      "metadata": {
        "id": "MKAWTCn_Irav"
      },
      "execution_count": null,
      "outputs": []
    },
    {
      "cell_type": "code",
      "source": [
        "gt_folder = os.path.join(base_folder, gt_start_folder)"
      ],
      "metadata": {
        "id": "-oSHUYusIz3f"
      },
      "execution_count": 21,
      "outputs": []
    },
    {
      "cell_type": "code",
      "source": [
        "gt_folder = os.path.join(base_folder, gt_start_folder)\n",
        "print(gt_folder)\n",
        "#gt_folder = \"/content/drive/MyDrive/Master_Thesis/tiff_to_split/Masks/Masks.rar\"\n",
        "# loading the temp.zip and creating a zip object\n",
        "for gt_index in os.listdir(gt_folder):\n",
        "\tprint(gt_index)\n",
        "\tif not gt_index.endswith('rar'):\n",
        "\t\t\tprint('no rar files here')\n",
        "\telse:\n",
        "\t\twith ZipFile(gt_index, 'r') as gt_files:\n",
        "\t\t\tprint(\"Extraxting all files in \", i)\n",
        "\t\t\t# Extracting all the members of the zip\n",
        "\t\t\t# into a specific location.\n",
        "\t\t\tgt_files.extractall(path=gt_folder)\n",
        "\t \n"
      ],
      "metadata": {
        "id": "_u9SolvY9LRt",
        "colab": {
          "base_uri": "https://localhost:8080/",
          "height": 296
        },
        "outputId": "b6df003e-18d8-4c9f-983e-a1368b08b87c"
      },
      "execution_count": 22,
      "outputs": [
        {
          "output_type": "stream",
          "name": "stdout",
          "text": [
            "/content/drive/MyDrive/Master_Thesis/tiff_to_split/Masks/Masks.rar\n"
          ]
        },
        {
          "output_type": "error",
          "ename": "NotADirectoryError",
          "evalue": "ignored",
          "traceback": [
            "\u001b[0;31m---------------------------------------------------------------------------\u001b[0m",
            "\u001b[0;31mNotADirectoryError\u001b[0m                        Traceback (most recent call last)",
            "\u001b[0;32m<ipython-input-22-c70d52f97c8d>\u001b[0m in \u001b[0;36m<module>\u001b[0;34m\u001b[0m\n\u001b[1;32m      3\u001b[0m \u001b[0;31m#gt_folder = \"/content/drive/MyDrive/Master_Thesis/tiff_to_split/Masks/Masks.rar\"\u001b[0m\u001b[0;34m\u001b[0m\u001b[0;34m\u001b[0m\u001b[0;34m\u001b[0m\u001b[0m\n\u001b[1;32m      4\u001b[0m \u001b[0;31m# loading the temp.zip and creating a zip object\u001b[0m\u001b[0;34m\u001b[0m\u001b[0;34m\u001b[0m\u001b[0;34m\u001b[0m\u001b[0m\n\u001b[0;32m----> 5\u001b[0;31m \u001b[0;32mfor\u001b[0m \u001b[0mgt_index\u001b[0m \u001b[0;32min\u001b[0m \u001b[0mos\u001b[0m\u001b[0;34m.\u001b[0m\u001b[0mlistdir\u001b[0m\u001b[0;34m(\u001b[0m\u001b[0mgt_folder\u001b[0m\u001b[0;34m)\u001b[0m\u001b[0;34m:\u001b[0m\u001b[0;34m\u001b[0m\u001b[0;34m\u001b[0m\u001b[0m\n\u001b[0m\u001b[1;32m      6\u001b[0m         \u001b[0mprint\u001b[0m\u001b[0;34m(\u001b[0m\u001b[0mgt_index\u001b[0m\u001b[0;34m)\u001b[0m\u001b[0;34m\u001b[0m\u001b[0;34m\u001b[0m\u001b[0m\n\u001b[1;32m      7\u001b[0m         \u001b[0;32mif\u001b[0m \u001b[0;32mnot\u001b[0m \u001b[0mgt_index\u001b[0m\u001b[0;34m.\u001b[0m\u001b[0mendswith\u001b[0m\u001b[0;34m(\u001b[0m\u001b[0;34m'rar'\u001b[0m\u001b[0;34m)\u001b[0m\u001b[0;34m:\u001b[0m\u001b[0;34m\u001b[0m\u001b[0;34m\u001b[0m\u001b[0m\n",
            "\u001b[0;31mNotADirectoryError\u001b[0m: [Errno 20] Not a directory: '/content/drive/MyDrive/Master_Thesis/tiff_to_split/Masks/Masks.rar'"
          ]
        }
      ]
    },
    {
      "cell_type": "code",
      "source": [
        "def crop_images(img, number, img_folder, end_folder):\n",
        "\n",
        "  #img = Image.open(image)\n",
        "\n",
        "  # get width and height\n",
        "  width = img.width\n",
        "  height = img.height\n",
        "  n = 256\n",
        "\n",
        "  # display width and height\n",
        "  print(\"The old width of the image is: \", width)\n",
        "  print(\"The old height of the image is: \", height)\n",
        "  print(number)\n",
        "\n",
        "  new_width = (width // n) * n\n",
        "  new_height = (height // n) * n\n",
        "\n",
        "  im_crop = img.crop(0, 0, new_width, new_height)\n",
        "  im_crop.save(os.path.join(end_folder, \"crop\", \"png\"))\n",
        "\n",
        "  print(\"The new width of the image is: \", new_width)\n",
        "  print(\"The new height of the image is: \", new_height)\n"
      ],
      "metadata": {
        "id": "gp7OW_EqGxz4"
      },
      "execution_count": 10,
      "outputs": []
    },
    {
      "cell_type": "code",
      "source": [
        "# crop the opened images using the function\n",
        "for i, image in tqdm(enumerate(tiff_files)):\n",
        "  crop_images(image, i, img_folder)"
      ],
      "metadata": {
        "colab": {
          "base_uri": "https://localhost:8080/",
          "height": 206
        },
        "id": "3kFxU04CRrHh",
        "outputId": "34842013-b456-4452-fc45-c6bd34725232"
      },
      "execution_count": null,
      "outputs": [
        {
          "output_type": "error",
          "ename": "TypeError",
          "evalue": "ignored",
          "traceback": [
            "\u001b[0;31m---------------------------------------------------------------------------\u001b[0m",
            "\u001b[0;31mTypeError\u001b[0m                                 Traceback (most recent call last)",
            "\u001b[0;32m<ipython-input-11-555980baf031>\u001b[0m in \u001b[0;36m<module>\u001b[0;34m\u001b[0m\n\u001b[1;32m      1\u001b[0m \u001b[0;31m# crop the opened images using the function\u001b[0m\u001b[0;34m\u001b[0m\u001b[0;34m\u001b[0m\u001b[0;34m\u001b[0m\u001b[0m\n\u001b[0;32m----> 2\u001b[0;31m \u001b[0;32mfor\u001b[0m \u001b[0mi\u001b[0m\u001b[0;34m,\u001b[0m \u001b[0mimage\u001b[0m \u001b[0;32min\u001b[0m \u001b[0menumerate\u001b[0m\u001b[0;34m(\u001b[0m\u001b[0mimg\u001b[0m\u001b[0;34m)\u001b[0m\u001b[0;34m:\u001b[0m\u001b[0;34m\u001b[0m\u001b[0;34m\u001b[0m\u001b[0m\n\u001b[0m\u001b[1;32m      3\u001b[0m   \u001b[0mcrop_images\u001b[0m\u001b[0;34m(\u001b[0m\u001b[0mimage\u001b[0m\u001b[0;34m,\u001b[0m \u001b[0mi\u001b[0m\u001b[0;34m,\u001b[0m \u001b[0mimg_folder\u001b[0m\u001b[0;34m)\u001b[0m\u001b[0;34m\u001b[0m\u001b[0;34m\u001b[0m\u001b[0m\n",
            "\u001b[0;31mTypeError\u001b[0m: 'PngImageFile' object is not iterable"
          ]
        }
      ]
    },
    {
      "cell_type": "code",
      "source": [
        "for i, image in tqdm(enumerate(gt_files)):\n",
        "  crop_images(image, i, gt_folder)"
      ],
      "metadata": {
        "id": "tgOc_TV19nym"
      },
      "execution_count": null,
      "outputs": []
    },
    {
      "cell_type": "markdown",
      "source": [
        "##Test"
      ],
      "metadata": {
        "id": "2hepzeDiDEee"
      }
    },
    {
      "cell_type": "code",
      "source": [
        "crop_images(img, 0, os.path.join(base_folder,img_folder, \"PNG_files\", \"01_02_2022_F12.png\"), end_folder)"
      ],
      "metadata": {
        "colab": {
          "base_uri": "https://localhost:8080/"
        },
        "id": "-FbjuMuwYDF5",
        "outputId": "f8d6c5df-8656-46f8-85c7-f2bf9f377ee7"
      },
      "execution_count": null,
      "outputs": [
        {
          "output_type": "stream",
          "name": "stdout",
          "text": [
            "The old width of the image is:  15231\n",
            "The old height of the image is:  12856\n",
            "The new width of the image is:  15104\n",
            "The new height of the image is:  12800\n"
          ]
        }
      ]
    },
    {
      "cell_type": "code",
      "source": [
        "#img_folder = os.path.join(base_folder, img_folder)\n",
        "#img_folder = os.path.join(img_folder)\n",
        "end_folder = os.path.join(base_folder, write_to_folder, \"\")\n",
        "img = Image.open(os.path.join(base_folder,img_folder, \"PNG_files\", \"01_02_2022_F12.png\"))\n"
      ],
      "metadata": {
        "id": "Des_XTMvVVwH"
      },
      "execution_count": null,
      "outputs": []
    }
  ]
}